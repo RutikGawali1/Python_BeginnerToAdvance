{
  "nbformat": 4,
  "nbformat_minor": 0,
  "metadata": {
    "colab": {
      "provenance": [],
      "authorship_tag": "ABX9TyOYAqv7W0gdc2TyrtsRk5Hy",
      "include_colab_link": true
    },
    "kernelspec": {
      "name": "python3",
      "display_name": "Python 3"
    },
    "language_info": {
      "name": "python"
    }
  },
  "cells": [
    {
      "cell_type": "markdown",
      "metadata": {
        "id": "view-in-github",
        "colab_type": "text"
      },
      "source": [
        "<a href=\"https://colab.research.google.com/github/RutikGawali1/Python_BeginnerToAdvance/blob/main/Day2.ipynb\" target=\"_parent\"><img src=\"https://colab.research.google.com/assets/colab-badge.svg\" alt=\"Open In Colab\"/></a>"
      ]
    },
    {
      "cell_type": "markdown",
      "source": [
        "✅ **3. Control Flow**\n",
        "\n",
        "🔹 Conditional Statements (if, elif, else)\n",
        "\n",
        "- Conditional statements are used to perform different computations or actions depending on whether a condition is true or not. Python uses if, elif, and else keywords for conditional execution.\n",
        "\n",
        "**Theory:**\n",
        "\n",
        "- if checks the first condition.\n",
        "\n",
        "- elif allows you to check multiple expressions.\n",
        "\n",
        "- else runs when none of the above conditions are true.\n",
        "\n",
        "\n",
        "\n"
      ],
      "metadata": {
        "id": "V62rvsUK2Mlt"
      }
    },
    {
      "cell_type": "markdown",
      "source": [
        "if condition:\n",
        "    # code block\n",
        "elif another_condition:\n",
        "    # code block\n",
        "else:\n",
        "    # code block"
      ],
      "metadata": {
        "id": "b8BUGijVl3Kc"
      }
    },
    {
      "cell_type": "code",
      "source": [
        "age = 20\n",
        "if age < 18:\n",
        "    print(\"Minor\")\n",
        "elif age == 18:\n",
        "    print(\"Just became adult\")\n",
        "else:\n",
        "    print(\"Adult\")"
      ],
      "metadata": {
        "colab": {
          "base_uri": "https://localhost:8080/"
        },
        "id": "jwzUlYcGlx-T",
        "outputId": "75c7d82e-486a-4c7b-fbad-96bbdb10b905"
      },
      "execution_count": 2,
      "outputs": [
        {
          "output_type": "stream",
          "name": "stdout",
          "text": [
            "Adult\n"
          ]
        }
      ]
    }
  ]
}