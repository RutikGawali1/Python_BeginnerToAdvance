{
  "nbformat": 4,
  "nbformat_minor": 0,
  "metadata": {
    "colab": {
      "provenance": [],
      "authorship_tag": "ABX9TyPiSpjaQsG3Uzuu5zWWURmk",
      "include_colab_link": true
    },
    "kernelspec": {
      "name": "python3",
      "display_name": "Python 3"
    },
    "language_info": {
      "name": "python"
    }
  },
  "cells": [
    {
      "cell_type": "markdown",
      "metadata": {
        "id": "view-in-github",
        "colab_type": "text"
      },
      "source": [
        "<a href=\"https://colab.research.google.com/github/RutikGawali1/Python_BeginnerToAdvance/blob/main/Day2.ipynb\" target=\"_parent\"><img src=\"https://colab.research.google.com/assets/colab-badge.svg\" alt=\"Open In Colab\"/></a>"
      ]
    },
    {
      "cell_type": "markdown",
      "source": [
        "✅ **3. Control Flow**\n",
        "\n",
        "🔹 Conditional Statements (if, elif, else)\n",
        "\n",
        "- Conditional statements are used to perform different computations or actions depending on whether a condition is true or not. Python uses if, elif, and else keywords for conditional execution.\n",
        "\n",
        "**Theory:**\n",
        "\n",
        "- if checks the first condition.\n",
        "\n",
        "- elif allows you to check multiple expressions.\n",
        "\n",
        "- else runs when none of the above conditions are true.\n",
        "\n",
        "\n",
        "\n"
      ],
      "metadata": {
        "id": "V62rvsUK2Mlt"
      }
    },
    {
      "cell_type": "markdown",
      "source": [
        "if condition:\n",
        "    # code block\n",
        "elif another_condition:\n",
        "    # code block\n",
        "else:\n",
        "    # code block"
      ],
      "metadata": {
        "id": "b8BUGijVl3Kc"
      }
    },
    {
      "cell_type": "code",
      "source": [
        "age = 20\n",
        "if age < 18:\n",
        "    print(\"Minor\")\n",
        "elif age == 18:\n",
        "    print(\"Just became adult\")\n",
        "else:\n",
        "    print(\"Adult\")"
      ],
      "metadata": {
        "colab": {
          "base_uri": "https://localhost:8080/"
        },
        "id": "jwzUlYcGlx-T",
        "outputId": "75c7d82e-486a-4c7b-fbad-96bbdb10b905"
      },
      "execution_count": null,
      "outputs": [
        {
          "output_type": "stream",
          "name": "stdout",
          "text": [
            "Adult\n"
          ]
        }
      ]
    },
    {
      "cell_type": "markdown",
      "source": [
        "🔹 **Looping**\n",
        "\n",
        "- Loops are used to repeat a block of code multiple times. Python supports two main types of loops: for and while.\n",
        "\n",
        "➤ for loop\n",
        "\n",
        "- Used when you want to iterate over a sequence like a list, string, or range.\n",
        "\n",
        "**Theory:**\n",
        "\n",
        "- Predefined range or iterable\n",
        "\n",
        "- Auto-increments the loop variable"
      ],
      "metadata": {
        "id": "VLc7RXp_OFc0"
      }
    },
    {
      "cell_type": "code",
      "source": [
        "for i in range(5):\n",
        "    print(i)  # Prints 0 to 4"
      ],
      "metadata": {
        "colab": {
          "base_uri": "https://localhost:8080/"
        },
        "id": "AwhOwr0jOOQh",
        "outputId": "dccaf718-296f-4d44-aa5a-267baeb5c286"
      },
      "execution_count": 1,
      "outputs": [
        {
          "output_type": "stream",
          "name": "stdout",
          "text": [
            "0\n",
            "1\n",
            "2\n",
            "3\n",
            "4\n"
          ]
        }
      ]
    },
    {
      "cell_type": "markdown",
      "source": [
        "➤ while loop\n",
        "\n",
        "- Used when the number of iterations is not known beforehand.\n",
        "\n",
        "**Theory:**\n",
        "\n",
        "- Loops until a condition becomes False"
      ],
      "metadata": {
        "id": "nPgxXHiqOSus"
      }
    },
    {
      "cell_type": "code",
      "source": [
        "count = 0\n",
        "while count < 5:\n",
        "    print(count)\n",
        "    count += 1"
      ],
      "metadata": {
        "colab": {
          "base_uri": "https://localhost:8080/"
        },
        "id": "CyRRdyLoOR4o",
        "outputId": "9fd0c2c7-b431-457a-91c7-31442c78d9e9"
      },
      "execution_count": 2,
      "outputs": [
        {
          "output_type": "stream",
          "name": "stdout",
          "text": [
            "0\n",
            "1\n",
            "2\n",
            "3\n",
            "4\n"
          ]
        }
      ]
    },
    {
      "cell_type": "markdown",
      "source": [
        "🔹 **Loop Control Statements**\n",
        "\n",
        "- These statements control the flow of loops.\n",
        "\n",
        "➤ break"
      ],
      "metadata": {
        "id": "Y9bBwYkrOhHv"
      }
    },
    {
      "cell_type": "code",
      "source": [
        "for i in range(10):\n",
        "    if i == 5:\n",
        "        break\n",
        "    print(i)"
      ],
      "metadata": {
        "colab": {
          "base_uri": "https://localhost:8080/"
        },
        "id": "WljZZIEfOmlp",
        "outputId": "fc1f41a9-526d-468f-c3d9-d4b54197b6e4"
      },
      "execution_count": 3,
      "outputs": [
        {
          "output_type": "stream",
          "name": "stdout",
          "text": [
            "0\n",
            "1\n",
            "2\n",
            "3\n",
            "4\n"
          ]
        }
      ]
    },
    {
      "cell_type": "markdown",
      "source": [
        "➤ continue\n",
        "\n",
        "Theory: Skips the current iteration and moves to the next."
      ],
      "metadata": {
        "id": "74Tv2MBbOq_i"
      }
    },
    {
      "cell_type": "code",
      "source": [
        "for i in range(5):\n",
        "    if i == 2:\n",
        "        continue\n",
        "    print(i)"
      ],
      "metadata": {
        "colab": {
          "base_uri": "https://localhost:8080/"
        },
        "id": "cQ002tYiOtz2",
        "outputId": "0947aae8-a9dc-4aa2-94cd-e70970b3acee"
      },
      "execution_count": 4,
      "outputs": [
        {
          "output_type": "stream",
          "name": "stdout",
          "text": [
            "0\n",
            "1\n",
            "3\n",
            "4\n"
          ]
        }
      ]
    }
  ]
}