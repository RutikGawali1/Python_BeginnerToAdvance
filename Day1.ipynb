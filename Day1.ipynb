{
  "nbformat": 4,
  "nbformat_minor": 0,
  "metadata": {
    "colab": {
      "provenance": [],
      "authorship_tag": "ABX9TyOgEwH8bnOR0rY+HFMSuaAU",
      "include_colab_link": true
    },
    "kernelspec": {
      "name": "python3",
      "display_name": "Python 3"
    },
    "language_info": {
      "name": "python"
    }
  },
  "cells": [
    {
      "cell_type": "markdown",
      "metadata": {
        "id": "view-in-github",
        "colab_type": "text"
      },
      "source": [
        "<a href=\"https://colab.research.google.com/github/RutikGawali1/Python_BeginnerToAdvance/blob/main/Day1.ipynb\" target=\"_parent\"><img src=\"https://colab.research.google.com/assets/colab-badge.svg\" alt=\"Open In Colab\"/></a>"
      ]
    },
    {
      "cell_type": "markdown",
      "source": [
        "\n",
        "✅ **1. Introduction to Python**\n",
        "\n",
        "-- What is Python?\n",
        "- Python is a high-level, interpreted programming language known for its simplicity and readability.\n",
        "\n",
        "  print(\"Hello\",World!\")\n",
        "\n",
        "-- Why Python?\n",
        "- Easy to learn\n",
        "- Huge community\n",
        "- Used in Web Dev, Data Science, AI, Automation, Game Dev, etc.\n",
        "\n",
        "-- How to Install Python:\n",
        "- Visit https://www.python.org\n",
        "- Download the latest version (choose Windows/Mac/Linux)\n",
        "\n",
        "-- Interpreter vs Compiler:\n",
        "- Interpreter: Executes code line-by-line (Python is interpreted)\n",
        "- Compiler: Converts whole code to machine language before execution\n",
        "\n",
        "✅ **2. Basic Python Syntax**\n",
        "\n",
        "- print(\"Hello, Rutik!\")\n",
        "\n"
      ],
      "metadata": {
        "id": "uBjbNDdcMmdX"
      }
    },
    {
      "cell_type": "markdown",
      "source": [
        "**✅ 2. Basic Python Syntax**"
      ],
      "metadata": {
        "id": "kkj4k9x5vobD"
      }
    },
    {
      "cell_type": "code",
      "source": [
        "print(\"Hello,world!\")"
      ],
      "metadata": {
        "colab": {
          "base_uri": "https://localhost:8080/"
        },
        "id": "k5oIaLZHvuwY",
        "outputId": "20ed7968-b703-472d-ff80-8eebab3d295b"
      },
      "execution_count": 6,
      "outputs": [
        {
          "output_type": "stream",
          "name": "stdout",
          "text": [
            "Hello,world!\n"
          ]
        }
      ]
    },
    {
      "cell_type": "markdown",
      "source": [
        "\n",
        "🔹 **Variables and Data Types**\n",
        "\n"
      ],
      "metadata": {
        "id": "VKk9zRQZv1a1"
      }
    },
    {
      "cell_type": "code",
      "source": [
        "name = \"Aanna\"      # str\n",
        "age = 23            # int\n",
        "height = 5.9        # float\n",
        "is_student = True   # bool"
      ],
      "metadata": {
        "id": "MbbBIW_pv_z1"
      },
      "execution_count": 7,
      "outputs": []
    },
    {
      "cell_type": "markdown",
      "source": [
        "🔹 **Input and Output**"
      ],
      "metadata": {
        "id": "QRs26DRkwK1a"
      }
    },
    {
      "cell_type": "code",
      "source": [
        "name = input(\"Enter a Name: \")\n",
        "print(\"Hello\",name)"
      ],
      "metadata": {
        "colab": {
          "base_uri": "https://localhost:8080/"
        },
        "id": "ZuILPmTewOSD",
        "outputId": "7a254fe9-e65c-433c-d40c-da22f0256c8b"
      },
      "execution_count": 8,
      "outputs": [
        {
          "output_type": "stream",
          "name": "stdout",
          "text": [
            "Enter a Name: Rutik\n",
            "Hello Rutik\n"
          ]
        }
      ]
    },
    {
      "cell_type": "markdown",
      "source": [
        "🔹 **Operators**"
      ],
      "metadata": {
        "id": "sxhympzbwqLr"
      }
    },
    {
      "cell_type": "code",
      "source": [
        "a = 10\n",
        "b = 3\n",
        "print(a + b)    # 13\n",
        "print(a / b)    # 3.33\n",
        "print(a % b)    # 1\n",
        "print(a ** b)   # 1000\n"
      ],
      "metadata": {
        "colab": {
          "base_uri": "https://localhost:8080/"
        },
        "id": "NgrI5yvuwu9X",
        "outputId": "48c3bb9b-266c-407d-d02f-a232a182893a"
      },
      "execution_count": 9,
      "outputs": [
        {
          "output_type": "stream",
          "name": "stdout",
          "text": [
            "13\n",
            "3.3333333333333335\n",
            "1\n",
            "1000\n"
          ]
        }
      ]
    },
    {
      "cell_type": "markdown",
      "source": [
        "✅ **3. Control Flow**"
      ],
      "metadata": {
        "id": "4aMhHwCcyGmP"
      }
    },
    {
      "cell_type": "code",
      "source": [
        "x = int(input(\"Enter A Age \"))\n",
        "if x > 18:\n",
        "  print(\"Adult\")\n",
        "elif x == 18:\n",
        "  print(\"Just Adult\")\n",
        "else :\n",
        "  print(\"Minor\")"
      ],
      "metadata": {
        "colab": {
          "base_uri": "https://localhost:8080/"
        },
        "id": "iWM6hTaOtoJ4",
        "outputId": "7520131c-c41b-4487-a64c-01a2de5e77ea"
      },
      "execution_count": 5,
      "outputs": [
        {
          "output_type": "stream",
          "name": "stdout",
          "text": [
            "Enter A Age 18\n",
            "Just Adult\n"
          ]
        }
      ]
    },
    {
      "cell_type": "markdown",
      "source": [
        "🔹 **Loops**\n"
      ],
      "metadata": {
        "id": "zKpegXIhvZiZ"
      }
    },
    {
      "cell_type": "code",
      "source": [
        "for i in range(5):\n",
        "  print(i)"
      ],
      "metadata": {
        "colab": {
          "base_uri": "https://localhost:8080/"
        },
        "id": "QGg7jZsavYzh",
        "outputId": "a68af633-680a-4aef-db4d-6144d43de61e"
      },
      "execution_count": 10,
      "outputs": [
        {
          "output_type": "stream",
          "name": "stdout",
          "text": [
            "0\n",
            "1\n",
            "2\n",
            "3\n",
            "4\n"
          ]
        }
      ]
    },
    {
      "cell_type": "code",
      "source": [
        "count = 0\n",
        "while count < 5:\n",
        "  print(count)\n",
        "  count += (1)"
      ],
      "metadata": {
        "colab": {
          "base_uri": "https://localhost:8080/"
        },
        "id": "FbC_LNNJyz_B",
        "outputId": "415fed74-bbdb-459a-bad0-1c576f4577a0"
      },
      "execution_count": 12,
      "outputs": [
        {
          "output_type": "stream",
          "name": "stdout",
          "text": [
            "0\n",
            "1\n",
            "2\n",
            "3\n",
            "4\n"
          ]
        }
      ]
    },
    {
      "cell_type": "markdown",
      "source": [
        "🔹 **Break & Continue**"
      ],
      "metadata": {
        "id": "7QPZx11TzPZT"
      }
    },
    {
      "cell_type": "code",
      "source": [
        "for i in range (10):\n",
        "  if i == 5:\n",
        "    break\n",
        "    print(i)\n",
        "  if i == 3:\n",
        "    continue\n",
        "    print(i)\n"
      ],
      "metadata": {
        "id": "w7hhdSagzAgz"
      },
      "execution_count": 13,
      "outputs": []
    }
  ]
}