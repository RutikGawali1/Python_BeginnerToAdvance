{
  "nbformat": 4,
  "nbformat_minor": 0,
  "metadata": {
    "colab": {
      "provenance": [],
      "authorship_tag": "ABX9TyOA5qRFqh9sm+qWQrXadRJe",
      "include_colab_link": true
    },
    "kernelspec": {
      "name": "python3",
      "display_name": "Python 3"
    },
    "language_info": {
      "name": "python"
    }
  },
  "cells": [
    {
      "cell_type": "markdown",
      "metadata": {
        "id": "view-in-github",
        "colab_type": "text"
      },
      "source": [
        "<a href=\"https://colab.research.google.com/github/RutikGawali1/Python_BeginnerToAdvance/blob/main/Day1.ipynb\" target=\"_parent\"><img src=\"https://colab.research.google.com/assets/colab-badge.svg\" alt=\"Open In Colab\"/></a>"
      ]
    },
    {
      "cell_type": "markdown",
      "source": [
        "\n",
        "✅ **1. Introduction to Python**\n",
        "\n",
        "-- What is Python?\n",
        "- Python is a high-level, interpreted programming language known for its simplicity and readability.\n",
        "\n",
        "  print(\"Hello\",World!\")\n",
        "\n",
        "-- Why Python?\n",
        "- Easy to learn\n",
        "- Huge community\n",
        "- Used in Web Dev, Data Science, AI, Automation, Game Dev, etc.\n",
        "\n",
        "-- How to Install Python:\n",
        "- Visit https://www.python.org\n",
        "- Download the latest version (choose Windows/Mac/Linux)\n",
        "\n",
        "-- Interpreter vs Compiler:\n",
        "- Interpreter: Executes code line-by-line (Python is interpreted)\n",
        "- Compiler: Converts whole code to machine language before execution\n",
        "\n",
        "✅ **2. Basic Python Syntax**\n",
        "\n",
        "- print(\"Hello, Rutik!\")\n",
        "\n",
        "✅ **3. Control Flow**\n"
      ],
      "metadata": {
        "id": "uBjbNDdcMmdX"
      }
    },
    {
      "cell_type": "code",
      "source": [
        "x = int(input(\"Enter A Age \"))\n",
        "if x > 18:\n",
        "  print(\"Adult\")\n",
        "elif x == 18:\n",
        "  print(\"Just Adult\")\n",
        "else :\n",
        "  print(\"Minor\")"
      ],
      "metadata": {
        "colab": {
          "base_uri": "https://localhost:8080/"
        },
        "id": "iWM6hTaOtoJ4",
        "outputId": "7520131c-c41b-4487-a64c-01a2de5e77ea"
      },
      "execution_count": 5,
      "outputs": [
        {
          "output_type": "stream",
          "name": "stdout",
          "text": [
            "Enter A Age 18\n",
            "Just Adult\n"
          ]
        }
      ]
    }
  ]
}